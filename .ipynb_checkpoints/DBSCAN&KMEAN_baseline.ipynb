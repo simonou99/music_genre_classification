{
 "cells": [
  {
   "cell_type": "code",
   "execution_count": 1,
   "metadata": {},
   "outputs": [],
   "source": [
    "from sklearn.cluster import DBSCAN\n",
    "from sklearn import metrics\n",
    "from sklearn.datasets import make_blobs\n",
    "from sklearn.preprocessing import StandardScaler"
   ]
  },
  {
   "cell_type": "code",
   "execution_count": 2,
   "metadata": {},
   "outputs": [],
   "source": [
    "import pandas as pd"
   ]
  },
  {
   "cell_type": "code",
   "execution_count": 3,
   "metadata": {},
   "outputs": [],
   "source": [
    "import numpy as np"
   ]
  },
  {
   "cell_type": "markdown",
   "metadata": {},
   "source": [
    "# 3 sec"
   ]
  },
  {
   "cell_type": "code",
   "execution_count": 4,
   "metadata": {},
   "outputs": [],
   "source": [
    "data_3=pd.read_csv(\"E:/Auckland university/cs760/group/present2/features_3_sec.csv\")"
   ]
  },
  {
   "cell_type": "code",
   "execution_count": 340,
   "metadata": {},
   "outputs": [
    {
     "name": "stdout",
     "output_type": "stream",
     "text": [
      "9\n",
      "20\n"
     ]
    }
   ],
   "source": [
    "X1=data_3.iloc[:,2:19]\n",
    "X2=data_3.iloc[:,19:-1]\n",
    "X1mean=X1.iloc[:,[i%2==0 for i in range(len(X1.columns))]]\n",
    "X2mean=X2.iloc[:,[i%2==0 for i in range(len(X2.columns))]]\n",
    "print(x1mean.shape[1])\n",
    "print(x2mean.shape[1])"
   ]
  },
  {
   "cell_type": "code",
   "execution_count": 53,
   "metadata": {},
   "outputs": [
    {
     "data": {
      "text/html": [
       "<div>\n",
       "<style scoped>\n",
       "    .dataframe tbody tr th:only-of-type {\n",
       "        vertical-align: middle;\n",
       "    }\n",
       "\n",
       "    .dataframe tbody tr th {\n",
       "        vertical-align: top;\n",
       "    }\n",
       "\n",
       "    .dataframe thead th {\n",
       "        text-align: right;\n",
       "    }\n",
       "</style>\n",
       "<table border=\"1\" class=\"dataframe\">\n",
       "  <thead>\n",
       "    <tr style=\"text-align: right;\">\n",
       "      <th></th>\n",
       "      <th>rms_mean</th>\n",
       "      <th>spectral_centroid_mean</th>\n",
       "      <th>spectral_bandwidth_mean</th>\n",
       "      <th>rolloff_mean</th>\n",
       "      <th>zero_crossing_rate_mean</th>\n",
       "      <th>harmony_mean</th>\n",
       "      <th>perceptr_mean</th>\n",
       "      <th>tempo</th>\n",
       "    </tr>\n",
       "  </thead>\n",
       "  <tbody>\n",
       "    <tr>\n",
       "      <th>0</th>\n",
       "      <td>-0.006624</td>\n",
       "      <td>-0.566828</td>\n",
       "      <td>-0.493983</td>\n",
       "      <td>-0.518590</td>\n",
       "      <td>-0.454064</td>\n",
       "      <td>0.168385</td>\n",
       "      <td>0.295495</td>\n",
       "      <td>0.131009</td>\n",
       "    </tr>\n",
       "    <tr>\n",
       "      <th>1</th>\n",
       "      <td>-0.264944</td>\n",
       "      <td>-0.508798</td>\n",
       "      <td>-0.425382</td>\n",
       "      <td>-0.424118</td>\n",
       "      <td>-0.337473</td>\n",
       "      <td>0.156342</td>\n",
       "      <td>0.263734</td>\n",
       "      <td>-0.055935</td>\n",
       "    </tr>\n",
       "    <tr>\n",
       "      <th>2</th>\n",
       "      <td>0.016695</td>\n",
       "      <td>-0.546245</td>\n",
       "      <td>-0.288365</td>\n",
       "      <td>-0.346190</td>\n",
       "      <td>-0.683379</td>\n",
       "      <td>0.175942</td>\n",
       "      <td>0.415753</td>\n",
       "      <td>-0.055935</td>\n",
       "    </tr>\n",
       "    <tr>\n",
       "      <th>3</th>\n",
       "      <td>0.024885</td>\n",
       "      <td>-0.723482</td>\n",
       "      <td>-0.517344</td>\n",
       "      <td>-0.607665</td>\n",
       "      <td>-0.726248</td>\n",
       "      <td>0.206475</td>\n",
       "      <td>0.373503</td>\n",
       "      <td>-0.055935</td>\n",
       "    </tr>\n",
       "    <tr>\n",
       "      <th>4</th>\n",
       "      <td>0.181345</td>\n",
       "      <td>-0.756246</td>\n",
       "      <td>-0.538557</td>\n",
       "      <td>-0.667537</td>\n",
       "      <td>-0.711602</td>\n",
       "      <td>0.238425</td>\n",
       "      <td>0.261354</td>\n",
       "      <td>-0.055935</td>\n",
       "    </tr>\n",
       "  </tbody>\n",
       "</table>\n",
       "</div>"
      ],
      "text/plain": [
       "   rms_mean  spectral_centroid_mean  spectral_bandwidth_mean  rolloff_mean  \\\n",
       "0 -0.006624               -0.566828                -0.493983     -0.518590   \n",
       "1 -0.264944               -0.508798                -0.425382     -0.424118   \n",
       "2  0.016695               -0.546245                -0.288365     -0.346190   \n",
       "3  0.024885               -0.723482                -0.517344     -0.607665   \n",
       "4  0.181345               -0.756246                -0.538557     -0.667537   \n",
       "\n",
       "   zero_crossing_rate_mean  harmony_mean  perceptr_mean     tempo  \n",
       "0                -0.454064      0.168385       0.295495  0.131009  \n",
       "1                -0.337473      0.156342       0.263734 -0.055935  \n",
       "2                -0.683379      0.175942       0.415753 -0.055935  \n",
       "3                -0.726248      0.206475       0.373503 -0.055935  \n",
       "4                -0.711602      0.238425       0.261354 -0.055935  "
      ]
     },
     "execution_count": 53,
     "metadata": {},
     "output_type": "execute_result"
    }
   ],
   "source": [
    "\n"
   ]
  },
  {
   "cell_type": "code",
   "execution_count": 19,
   "metadata": {},
   "outputs": [],
   "source": [
    "from sklearn.decomposition import PCA\n"
   ]
  },
  {
   "cell_type": "code",
   "execution_count": 341,
   "metadata": {},
   "outputs": [
    {
     "name": "stdout",
     "output_type": "stream",
     "text": [
      "[0.26767426 0.1604182  0.09919649 0.05357675 0.04660114 0.0346351\n",
      " 0.03233625 0.02920041 0.02212971 0.02033248]\n"
     ]
    },
    {
     "data": {
      "image/png": "[encoded data removed]",
      "text/plain": [
       "<Figure size 864x432 with 1 Axes>"
      ]
     },
     "metadata": {},
     "output_type": "display_data"
    }
   ],
   "source": [
    "#standerlized\n",
    "scaler = StandardScaler()\n",
    "scaler.fit(train)\n",
    "X_scale = scaler.transform(train)\n",
    "df_scale = pd.DataFrame(X_scale, columns=train.columns)\n",
    "df_scale.head()\n",
    "#feature dimension reduction\n",
    "pca = PCA(n_components=29)\n",
    "pca.fit(df_scale)\n",
    "variance = pca.explained_variance_ratio_ \n",
    "var=np.cumsum(np.round(variance,3)*100)\n",
    "plt.figure(figsize=(12,6))\n",
    "plt.ylabel('% Variance Explained')\n",
    "plt.xlabel('# of Features')\n",
    "plt.title('PCA Analysis')\n",
    "plt.ylim(0,100.5)\n",
    "plt.plot(var)\n",
    "#data dimension reduction\n",
    "pca = PCA(n_components=10)\n",
    "pca.fit(df_scale)\n",
    "pca_scale = pca.transform(df_scale)\n",
    "pca_df = pd.DataFrame(pca_scale, columns=['pc1', 'pc2', 'pc3','pc4','pc1', 'pc2', 'pc3','pc4','pc1', 'pc2',])\n",
    "print(pca.explained_variance_ratio_)"
   ]
  },
  {
   "cell_type": "code",
   "execution_count": null,
   "metadata": {},
   "outputs": [],
   "source": []
  },
  {
   "cell_type": "code",
   "execution_count": 16,
   "metadata": {},
   "outputs": [],
   "source": [
    "from sklearn.neighbors import NearestNeighbors  "
   ]
  },
  {
   "cell_type": "code",
   "execution_count": 22,
   "metadata": {},
   "outputs": [],
   "source": [
    "import matplotlib.pyplot as plt"
   ]
  },
  {
   "cell_type": "markdown",
   "metadata": {},
   "source": [
    "# DBSCAN"
   ]
  },
  {
   "cell_type": "code",
   "execution_count": 343,
   "metadata": {},
   "outputs": [
    {
     "data": {
      "image/png": "[encoded data removed]",
      "text/plain": [
       "<Figure size 720x432 with 1 Axes>"
      ]
     },
     "metadata": {},
     "output_type": "display_data"
    }
   ],
   "source": [
    "# x1mean确定eps\n",
    "plt.figure(figsize=(10,6))\n",
    "nn = NearestNeighbors(n_neighbors=5).fit(X1mean)\n",
    "distances, idx = nn.kneighbors(X1mean)\n",
    "distances = np.sort(distances, axis=0)\n",
    "distances = distances[:,1]\n",
    "plt.plot(distances)\n",
    "plt.show()"
   ]
  },
  {
   "cell_type": "code",
   "execution_count": 361,
   "metadata": {},
   "outputs": [
    {
     "name": "stdout",
     "output_type": "stream",
     "text": [
      "49\n",
      "5503\n"
     ]
    }
   ],
   "source": [
    "db = DBSCAN(eps=63,min_samples=10).fit(X1mean)\n",
    "labels = db.labels_\n",
    "print(len(set(labels)) - (1 if -1 in labels else 0))\n",
    "print(list(labels).count(-1))"
   ]
  },
  {
   "cell_type": "code",
   "execution_count": null,
   "metadata": {},
   "outputs": [],
   "source": []
  },
  {
   "cell_type": "code",
   "execution_count": 362,
   "metadata": {},
   "outputs": [
    {
     "data": {
      "image/png": "[encoded data removed]",
      "text/plain": [
       "<Figure size 720x432 with 1 Axes>"
      ]
     },
     "metadata": {},
     "output_type": "display_data"
    }
   ],
   "source": [
    "# x2mean确定eps\n",
    "plt.figure(figsize=(10,6))\n",
    "nn = NearestNeighbors(n_neighbors=5).fit(X2mean)\n",
    "distances, idx = nn.kneighbors(X2mean)\n",
    "distances = np.sort(distances, axis=0)\n",
    "distances = distances[:,1]\n",
    "plt.plot(distances)\n",
    "plt.show()"
   ]
  },
  {
   "cell_type": "code",
   "execution_count": 364,
   "metadata": {},
   "outputs": [
    {
     "name": "stdout",
     "output_type": "stream",
     "text": [
      "11\n",
      "2054\n"
     ]
    }
   ],
   "source": [
    "db = DBSCAN(eps=30,min_samples=10).fit(X2mean)\n",
    "labels = db.labels_\n",
    "print(len(set(labels)) - (1 if -1 in labels else 0))\n",
    "print(list(labels).count(-1))"
   ]
  },
  {
   "cell_type": "markdown",
   "metadata": {},
   "source": [
    "# K-MEAN"
   ]
  },
  {
   "cell_type": "code",
   "execution_count": 300,
   "metadata": {},
   "outputs": [],
   "source": [
    "from sklearn.cluster import KMeans\n",
    "from sklearn.model_selection import train_test_split, GridSearchCV"
   ]
  },
  {
   "cell_type": "code",
   "execution_count": 335,
   "metadata": {},
   "outputs": [],
   "source": [
    "kmeans = KMeans(n_clusters=20, random_state=0).fit(X1mean)"
   ]
  },
  {
   "cell_type": "code",
   "execution_count": 337,
   "metadata": {},
   "outputs": [
    {
     "data": {
      "text/plain": [
       "0.3166746858538616"
      ]
     },
     "execution_count": 337,
     "metadata": {},
     "output_type": "execute_result"
    }
   ],
   "source": [
    "from sklearn.metrics import silhouette_score\n",
    "silhouette_score(X1mean,kmeans.labels_)"
   ]
  },
  {
   "cell_type": "code",
   "execution_count": 370,
   "metadata": {},
   "outputs": [],
   "source": [
    "silhouettescore=[]\n",
    "for i in range(20,25):\n",
    "    kmeans = KMeans(n_clusters=i, random_state=0).fit(X1mean)\n",
    "    score=silhouette_score(X1mean,kmeans.labels_)\n",
    "    silhouettescore.append(score)"
   ]
  },
  {
   "cell_type": "code",
   "execution_count": 372,
   "metadata": {},
   "outputs": [
    {
     "data": {
      "image/png": "[encoded data removed]",
      "text/plain": [
       "<Figure size 720x432 with 1 Axes>"
      ]
     },
     "metadata": {},
     "output_type": "display_data"
    }
   ],
   "source": [
    "plt.figure(figsize=(10,6))\n",
    "plt.plot(range(20,25),silhouettescore)\n",
    "plt.show()"
   ]
  },
  {
   "cell_type": "code",
   "execution_count": 374,
   "metadata": {},
   "outputs": [
    {
     "data": {
      "text/plain": [
       "0.2870399903408457"
      ]
     },
     "execution_count": 374,
     "metadata": {},
     "output_type": "execute_result"
    }
   ],
   "source": [
    "kmeans = KMeans(n_clusters=23, random_state=0).fit(X1mean)\n",
    "silhouette_score(X1mean,kmeans.labels_)"
   ]
  },
  {
   "cell_type": "markdown",
   "metadata": {},
   "source": [
    "# 30 sce"
   ]
  },
  {
   "cell_type": "code",
   "execution_count": 152,
   "metadata": {},
   "outputs": [],
   "source": [
    "data_30=pd.read_csv(\"E:/Auckland university/cs760/group/present2/features_30_sec.csv\")"
   ]
  },
  {
   "cell_type": "code",
   "execution_count": 196,
   "metadata": {
    "scrolled": true
   },
   "outputs": [
    {
     "data": {
      "text/html": [
       "<div>\n",
       "<style scoped>\n",
       "    .dataframe tbody tr th:only-of-type {\n",
       "        vertical-align: middle;\n",
       "    }\n",
       "\n",
       "    .dataframe tbody tr th {\n",
       "        vertical-align: top;\n",
       "    }\n",
       "\n",
       "    .dataframe thead th {\n",
       "        text-align: right;\n",
       "    }\n",
       "</style>\n",
       "<table border=\"1\" class=\"dataframe\">\n",
       "  <thead>\n",
       "    <tr style=\"text-align: right;\">\n",
       "      <th></th>\n",
       "      <th>mfcc1_var</th>\n",
       "      <th>mfcc2_var</th>\n",
       "      <th>mfcc3_var</th>\n",
       "      <th>mfcc4_var</th>\n",
       "      <th>mfcc5_var</th>\n",
       "      <th>mfcc6_var</th>\n",
       "      <th>mfcc7_var</th>\n",
       "      <th>mfcc8_var</th>\n",
       "      <th>mfcc9_var</th>\n",
       "      <th>mfcc10_var</th>\n",
       "      <th>mfcc11_var</th>\n",
       "      <th>mfcc12_var</th>\n",
       "      <th>mfcc13_var</th>\n",
       "      <th>mfcc14_var</th>\n",
       "      <th>mfcc15_var</th>\n",
       "      <th>mfcc16_var</th>\n",
       "      <th>mfcc17_var</th>\n",
       "      <th>mfcc18_var</th>\n",
       "      <th>mfcc19_var</th>\n",
       "      <th>mfcc20_var</th>\n",
       "    </tr>\n",
       "  </thead>\n",
       "  <tbody>\n",
       "    <tr>\n",
       "      <th>0</th>\n",
       "      <td>2564.207520</td>\n",
       "      <td>295.913818</td>\n",
       "      <td>235.574432</td>\n",
       "      <td>151.106873</td>\n",
       "      <td>167.934799</td>\n",
       "      <td>89.180840</td>\n",
       "      <td>67.660492</td>\n",
       "      <td>68.932579</td>\n",
       "      <td>82.204201</td>\n",
       "      <td>63.386311</td>\n",
       "      <td>61.773094</td>\n",
       "      <td>51.244125</td>\n",
       "      <td>41.217415</td>\n",
       "      <td>40.554478</td>\n",
       "      <td>49.775421</td>\n",
       "      <td>52.420910</td>\n",
       "      <td>36.524071</td>\n",
       "      <td>41.597103</td>\n",
       "      <td>55.062923</td>\n",
       "      <td>46.936035</td>\n",
       "    </tr>\n",
       "    <tr>\n",
       "      <th>1</th>\n",
       "      <td>7764.555176</td>\n",
       "      <td>560.259949</td>\n",
       "      <td>572.810913</td>\n",
       "      <td>264.506104</td>\n",
       "      <td>279.932922</td>\n",
       "      <td>156.477097</td>\n",
       "      <td>200.849182</td>\n",
       "      <td>142.555954</td>\n",
       "      <td>166.108521</td>\n",
       "      <td>104.358612</td>\n",
       "      <td>105.173630</td>\n",
       "      <td>96.197212</td>\n",
       "      <td>64.914291</td>\n",
       "      <td>73.152534</td>\n",
       "      <td>52.422142</td>\n",
       "      <td>55.356403</td>\n",
       "      <td>60.314529</td>\n",
       "      <td>48.120598</td>\n",
       "      <td>51.106190</td>\n",
       "      <td>45.786282</td>\n",
       "    </tr>\n",
       "    <tr>\n",
       "      <th>2</th>\n",
       "      <td>3319.044922</td>\n",
       "      <td>508.765045</td>\n",
       "      <td>411.781219</td>\n",
       "      <td>144.090317</td>\n",
       "      <td>155.493759</td>\n",
       "      <td>74.548401</td>\n",
       "      <td>106.981827</td>\n",
       "      <td>106.574875</td>\n",
       "      <td>65.447945</td>\n",
       "      <td>67.908859</td>\n",
       "      <td>57.781425</td>\n",
       "      <td>64.480209</td>\n",
       "      <td>60.385151</td>\n",
       "      <td>57.711136</td>\n",
       "      <td>36.580986</td>\n",
       "      <td>40.598766</td>\n",
       "      <td>47.639427</td>\n",
       "      <td>52.382141</td>\n",
       "      <td>46.639660</td>\n",
       "      <td>30.573025</td>\n",
       "    </tr>\n",
       "    <tr>\n",
       "      <th>3</th>\n",
       "      <td>5507.517090</td>\n",
       "      <td>456.505402</td>\n",
       "      <td>257.161163</td>\n",
       "      <td>158.267303</td>\n",
       "      <td>268.034393</td>\n",
       "      <td>126.794128</td>\n",
       "      <td>155.912079</td>\n",
       "      <td>81.273743</td>\n",
       "      <td>92.114090</td>\n",
       "      <td>71.314079</td>\n",
       "      <td>110.236687</td>\n",
       "      <td>48.251999</td>\n",
       "      <td>56.799400</td>\n",
       "      <td>62.289902</td>\n",
       "      <td>51.651592</td>\n",
       "      <td>44.427753</td>\n",
       "      <td>50.206673</td>\n",
       "      <td>37.319130</td>\n",
       "      <td>37.259739</td>\n",
       "      <td>31.949339</td>\n",
       "    </tr>\n",
       "    <tr>\n",
       "      <th>4</th>\n",
       "      <td>5195.291992</td>\n",
       "      <td>853.784729</td>\n",
       "      <td>333.792938</td>\n",
       "      <td>193.456100</td>\n",
       "      <td>336.276825</td>\n",
       "      <td>134.831573</td>\n",
       "      <td>93.257095</td>\n",
       "      <td>124.672127</td>\n",
       "      <td>130.073349</td>\n",
       "      <td>99.675575</td>\n",
       "      <td>80.254066</td>\n",
       "      <td>86.430626</td>\n",
       "      <td>89.555443</td>\n",
       "      <td>70.943336</td>\n",
       "      <td>75.793404</td>\n",
       "      <td>86.099236</td>\n",
       "      <td>75.269707</td>\n",
       "      <td>53.613918</td>\n",
       "      <td>62.910812</td>\n",
       "      <td>55.195160</td>\n",
       "    </tr>\n",
       "    <tr>\n",
       "      <th>...</th>\n",
       "      <td>...</td>\n",
       "      <td>...</td>\n",
       "      <td>...</td>\n",
       "      <td>...</td>\n",
       "      <td>...</td>\n",
       "      <td>...</td>\n",
       "      <td>...</td>\n",
       "      <td>...</td>\n",
       "      <td>...</td>\n",
       "      <td>...</td>\n",
       "      <td>...</td>\n",
       "      <td>...</td>\n",
       "      <td>...</td>\n",
       "      <td>...</td>\n",
       "      <td>...</td>\n",
       "      <td>...</td>\n",
       "      <td>...</td>\n",
       "      <td>...</td>\n",
       "      <td>...</td>\n",
       "      <td>...</td>\n",
       "    </tr>\n",
       "    <tr>\n",
       "      <th>995</th>\n",
       "      <td>2540.949463</td>\n",
       "      <td>455.579956</td>\n",
       "      <td>189.883865</td>\n",
       "      <td>132.334518</td>\n",
       "      <td>92.553497</td>\n",
       "      <td>58.462181</td>\n",
       "      <td>89.278427</td>\n",
       "      <td>43.789928</td>\n",
       "      <td>77.724525</td>\n",
       "      <td>61.443748</td>\n",
       "      <td>42.666080</td>\n",
       "      <td>43.414345</td>\n",
       "      <td>49.383522</td>\n",
       "      <td>56.457893</td>\n",
       "      <td>36.433578</td>\n",
       "      <td>45.050526</td>\n",
       "      <td>41.754955</td>\n",
       "      <td>36.778877</td>\n",
       "      <td>54.866825</td>\n",
       "      <td>49.950665</td>\n",
       "    </tr>\n",
       "    <tr>\n",
       "      <th>996</th>\n",
       "      <td>3282.358887</td>\n",
       "      <td>345.518890</td>\n",
       "      <td>191.464813</td>\n",
       "      <td>66.674255</td>\n",
       "      <td>81.370674</td>\n",
       "      <td>44.545662</td>\n",
       "      <td>63.946007</td>\n",
       "      <td>43.887966</td>\n",
       "      <td>37.119415</td>\n",
       "      <td>53.151684</td>\n",
       "      <td>44.253551</td>\n",
       "      <td>38.195637</td>\n",
       "      <td>34.824745</td>\n",
       "      <td>29.224157</td>\n",
       "      <td>43.484493</td>\n",
       "      <td>33.851742</td>\n",
       "      <td>39.395096</td>\n",
       "      <td>32.010040</td>\n",
       "      <td>39.196327</td>\n",
       "      <td>31.773624</td>\n",
       "    </tr>\n",
       "    <tr>\n",
       "      <th>997</th>\n",
       "      <td>1681.638794</td>\n",
       "      <td>475.088074</td>\n",
       "      <td>290.302795</td>\n",
       "      <td>113.682693</td>\n",
       "      <td>77.294281</td>\n",
       "      <td>81.096153</td>\n",
       "      <td>59.990017</td>\n",
       "      <td>41.712540</td>\n",
       "      <td>44.554043</td>\n",
       "      <td>82.069191</td>\n",
       "      <td>43.337452</td>\n",
       "      <td>42.966385</td>\n",
       "      <td>44.368690</td>\n",
       "      <td>37.248077</td>\n",
       "      <td>39.505585</td>\n",
       "      <td>33.597008</td>\n",
       "      <td>36.367264</td>\n",
       "      <td>36.001110</td>\n",
       "      <td>42.502201</td>\n",
       "      <td>29.865515</td>\n",
       "    </tr>\n",
       "    <tr>\n",
       "      <th>998</th>\n",
       "      <td>10766.367188</td>\n",
       "      <td>492.819122</td>\n",
       "      <td>605.487488</td>\n",
       "      <td>189.945770</td>\n",
       "      <td>156.834641</td>\n",
       "      <td>211.036163</td>\n",
       "      <td>107.069740</td>\n",
       "      <td>103.171165</td>\n",
       "      <td>69.988968</td>\n",
       "      <td>92.819435</td>\n",
       "      <td>63.858929</td>\n",
       "      <td>75.528023</td>\n",
       "      <td>56.776089</td>\n",
       "      <td>42.620800</td>\n",
       "      <td>46.763134</td>\n",
       "      <td>46.324894</td>\n",
       "      <td>43.583942</td>\n",
       "      <td>34.331261</td>\n",
       "      <td>47.227180</td>\n",
       "      <td>41.299088</td>\n",
       "    </tr>\n",
       "    <tr>\n",
       "      <th>999</th>\n",
       "      <td>7712.194336</td>\n",
       "      <td>798.665283</td>\n",
       "      <td>518.708618</td>\n",
       "      <td>228.190399</td>\n",
       "      <td>182.343460</td>\n",
       "      <td>126.902298</td>\n",
       "      <td>119.129547</td>\n",
       "      <td>93.618126</td>\n",
       "      <td>79.731667</td>\n",
       "      <td>76.233124</td>\n",
       "      <td>79.307365</td>\n",
       "      <td>45.758392</td>\n",
       "      <td>42.938053</td>\n",
       "      <td>67.357964</td>\n",
       "      <td>58.056416</td>\n",
       "      <td>59.167755</td>\n",
       "      <td>73.760391</td>\n",
       "      <td>76.504326</td>\n",
       "      <td>72.189316</td>\n",
       "      <td>49.662510</td>\n",
       "    </tr>\n",
       "  </tbody>\n",
       "</table>\n",
       "<p>1000 rows × 20 columns</p>\n",
       "</div>"
      ],
      "text/plain": [
       "        mfcc1_var   mfcc2_var   mfcc3_var   mfcc4_var   mfcc5_var   mfcc6_var  \\\n",
       "0     2564.207520  295.913818  235.574432  151.106873  167.934799   89.180840   \n",
       "1     7764.555176  560.259949  572.810913  264.506104  279.932922  156.477097   \n",
       "2     3319.044922  508.765045  411.781219  144.090317  155.493759   74.548401   \n",
       "3     5507.517090  456.505402  257.161163  158.267303  268.034393  126.794128   \n",
       "4     5195.291992  853.784729  333.792938  193.456100  336.276825  134.831573   \n",
       "..            ...         ...         ...         ...         ...         ...   \n",
       "995   2540.949463  455.579956  189.883865  132.334518   92.553497   58.462181   \n",
       "996   3282.358887  345.518890  191.464813   66.674255   81.370674   44.545662   \n",
       "997   1681.638794  475.088074  290.302795  113.682693   77.294281   81.096153   \n",
       "998  10766.367188  492.819122  605.487488  189.945770  156.834641  211.036163   \n",
       "999   7712.194336  798.665283  518.708618  228.190399  182.343460  126.902298   \n",
       "\n",
       "      mfcc7_var   mfcc8_var   mfcc9_var  mfcc10_var  mfcc11_var  mfcc12_var  \\\n",
       "0     67.660492   68.932579   82.204201   63.386311   61.773094   51.244125   \n",
       "1    200.849182  142.555954  166.108521  104.358612  105.173630   96.197212   \n",
       "2    106.981827  106.574875   65.447945   67.908859   57.781425   64.480209   \n",
       "3    155.912079   81.273743   92.114090   71.314079  110.236687   48.251999   \n",
       "4     93.257095  124.672127  130.073349   99.675575   80.254066   86.430626   \n",
       "..          ...         ...         ...         ...         ...         ...   \n",
       "995   89.278427   43.789928   77.724525   61.443748   42.666080   43.414345   \n",
       "996   63.946007   43.887966   37.119415   53.151684   44.253551   38.195637   \n",
       "997   59.990017   41.712540   44.554043   82.069191   43.337452   42.966385   \n",
       "998  107.069740  103.171165   69.988968   92.819435   63.858929   75.528023   \n",
       "999  119.129547   93.618126   79.731667   76.233124   79.307365   45.758392   \n",
       "\n",
       "     mfcc13_var  mfcc14_var  mfcc15_var  mfcc16_var  mfcc17_var  mfcc18_var  \\\n",
       "0     41.217415   40.554478   49.775421   52.420910   36.524071   41.597103   \n",
       "1     64.914291   73.152534   52.422142   55.356403   60.314529   48.120598   \n",
       "2     60.385151   57.711136   36.580986   40.598766   47.639427   52.382141   \n",
       "3     56.799400   62.289902   51.651592   44.427753   50.206673   37.319130   \n",
       "4     89.555443   70.943336   75.793404   86.099236   75.269707   53.613918   \n",
       "..          ...         ...         ...         ...         ...         ...   \n",
       "995   49.383522   56.457893   36.433578   45.050526   41.754955   36.778877   \n",
       "996   34.824745   29.224157   43.484493   33.851742   39.395096   32.010040   \n",
       "997   44.368690   37.248077   39.505585   33.597008   36.367264   36.001110   \n",
       "998   56.776089   42.620800   46.763134   46.324894   43.583942   34.331261   \n",
       "999   42.938053   67.357964   58.056416   59.167755   73.760391   76.504326   \n",
       "\n",
       "     mfcc19_var  mfcc20_var  \n",
       "0     55.062923   46.936035  \n",
       "1     51.106190   45.786282  \n",
       "2     46.639660   30.573025  \n",
       "3     37.259739   31.949339  \n",
       "4     62.910812   55.195160  \n",
       "..          ...         ...  \n",
       "995   54.866825   49.950665  \n",
       "996   39.196327   31.773624  \n",
       "997   42.502201   29.865515  \n",
       "998   47.227180   41.299088  \n",
       "999   72.189316   49.662510  \n",
       "\n",
       "[1000 rows x 20 columns]"
      ]
     },
     "execution_count": 196,
     "metadata": {},
     "output_type": "execute_result"
    }
   ],
   "source": [
    "x1=data_30.iloc[:,2:19]\n",
    "x2=data_30.iloc[:,19:-1]\n",
    "x1mean=x1.iloc[:,[i%2==0 for i in range(len(x1.columns))]]\n",
    "x2mean=x2.iloc[:,[i%2==1for i in range(len(x2.columns))]]\n",
    "x2mean"
   ]
  },
  {
   "cell_type": "code",
   "execution_count": 192,
   "metadata": {},
   "outputs": [
    {
     "name": "stdout",
     "output_type": "stream",
     "text": [
      "9\n",
      "20\n"
     ]
    }
   ],
   "source": [
    "print(x1mean.shape[1])\n",
    "print(x2mean.shape[1])"
   ]
  },
  {
   "cell_type": "markdown",
   "metadata": {},
   "source": [
    "# DBSCAN"
   ]
  },
  {
   "cell_type": "code",
   "execution_count": 154,
   "metadata": {},
   "outputs": [
    {
     "data": {
      "image/png": "[encoded data removed]",
      "text/plain": [
       "<Figure size 720x360 with 1 Axes>"
      ]
     },
     "metadata": {},
     "output_type": "display_data"
    }
   ],
   "source": [
    "# x1mean确定eps\n",
    "plt.figure(figsize=(10,5))\n",
    "nn = NearestNeighbors(n_neighbors=5).fit(x1mean)\n",
    "distances, idx = nn.kneighbors(x1mean)\n",
    "distances = np.sort(distances, axis=0)\n",
    "distances = distances[:,1]\n",
    "plt.plot(distances)\n",
    "plt.show()"
   ]
  },
  {
   "cell_type": "code",
   "execution_count": 289,
   "metadata": {},
   "outputs": [
    {
     "name": "stdout",
     "output_type": "stream",
     "text": [
      "11\n",
      "376\n"
     ]
    }
   ],
   "source": [
    "db = DBSCAN(eps=130, min_samples=10).fit(x1mean)\n",
    "labels = db.labels_\n",
    "print(len(set(labels)) - (1 if -1 in labels else 0))\n",
    "print(list(labels).count(-1))"
   ]
  },
  {
   "cell_type": "code",
   "execution_count": 197,
   "metadata": {},
   "outputs": [
    {
     "data": {
      "image/png": "[encoded data removed]",
      "text/plain": [
       "<Figure size 720x360 with 1 Axes>"
      ]
     },
     "metadata": {},
     "output_type": "display_data"
    }
   ],
   "source": [
    "# x2mean确定eps\n",
    "plt.figure(figsize=(10,5))\n",
    "nn = NearestNeighbors(n_neighbors=5).fit(x2mean)\n",
    "distances, idx = nn.kneighbors(x2mean)\n",
    "distances = np.sort(distances, axis=0)\n",
    "distances = distances[:,1]\n",
    "plt.plot(distances)\n",
    "plt.show()"
   ]
  },
  {
   "cell_type": "code",
   "execution_count": 296,
   "metadata": {},
   "outputs": [
    {
     "name": "stdout",
     "output_type": "stream",
     "text": [
      "2\n",
      "118\n"
     ]
    }
   ],
   "source": [
    "db = DBSCAN(eps=470, min_samples=9).fit(x2mean)\n",
    "labels = db.labels_\n",
    "print(len(set(labels)) - (1 if -1 in labels else 0))\n",
    "print(list(labels).count(-1))"
   ]
  },
  {
   "cell_type": "markdown",
   "metadata": {},
   "source": [
    "# K-MEAN"
   ]
  },
  {
   "cell_type": "code",
   "execution_count": 375,
   "metadata": {},
   "outputs": [],
   "source": [
    "silhouettescore=[]\n",
    "for i in range(20,50):\n",
    "    kmeans = KMeans(n_clusters=i, random_state=0).fit(x1mean)\n",
    "    score=silhouette_score(x1mean,kmeans.labels_)\n",
    "    silhouettescore.append(score)"
   ]
  },
  {
   "cell_type": "code",
   "execution_count": 376,
   "metadata": {},
   "outputs": [
    {
     "data": {
      "image/png": "[encoded data removed]",
      "text/plain": [
       "<Figure size 720x432 with 1 Axes>"
      ]
     },
     "metadata": {},
     "output_type": "display_data"
    }
   ],
   "source": [
    "plt.figure(figsize=(10,6))\n",
    "plt.plot(range(20,50),silhouettescore)\n",
    "plt.show()"
   ]
  },
  {
   "cell_type": "code",
   "execution_count": 377,
   "metadata": {},
   "outputs": [
    {
     "data": {
      "text/plain": [
       "0.30128416226334026"
      ]
     },
     "execution_count": 377,
     "metadata": {},
     "output_type": "execute_result"
    }
   ],
   "source": [
    "kmeans = KMeans(n_clusters=25, random_state=0).fit(x1mean)\n",
    "silhouette_score(x1mean,kmeans.labels_)"
   ]
  },
  {
   "cell_type": "code",
   "execution_count": 380,
   "metadata": {},
   "outputs": [
    {
     "data": {
      "image/png": "[encoded data removed]",
      "text/plain": [
       "<Figure size 720x432 with 1 Axes>"
      ]
     },
     "metadata": {},
     "output_type": "display_data"
    }
   ],
   "source": [
    "silhouettescore=[]\n",
    "for i in range(20,50):\n",
    "    kmeans = KMeans(n_clusters=i, random_state=0).fit(x2mean)\n",
    "    score=silhouette_score(x2mean,kmeans.labels_)\n",
    "    silhouettescore.append(score)\n",
    "plt.figure(figsize=(10,6))\n",
    "plt.plot(range(20,50),silhouettescore)\n",
    "plt.show()"
   ]
  },
  {
   "cell_type": "code",
   "execution_count": 381,
   "metadata": {},
   "outputs": [
    {
     "data": {
      "text/plain": [
       "0.29689646827039096"
      ]
     },
     "execution_count": 381,
     "metadata": {},
     "output_type": "execute_result"
    }
   ],
   "source": [
    "kmeans = KMeans(n_clusters=40, random_state=0).fit(x1mean)\n",
    "silhouette_score(x1mean,kmeans.labels_)"
   ]
  },
  {
   "cell_type": "code",
   "execution_count": null,
   "metadata": {},
   "outputs": [],
   "source": []
  }
 ],
 "metadata": {
  "kernelspec": {
   "display_name": "Python 3",
   "language": "python",
   "name": "python3"
  },
  "language_info": {
   "codemirror_mode": {
    "name": "ipython",
    "version": 3
   },
   "file_extension": ".py",
   "mimetype": "text/x-python",
   "name": "python",
   "nbconvert_exporter": "python",
   "pygments_lexer": "ipython3",
   "version": "3.6.5"
  }
 },
 "nbformat": 4,
 "nbformat_minor": 2
}
