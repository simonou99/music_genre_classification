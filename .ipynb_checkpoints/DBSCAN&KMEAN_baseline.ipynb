{
 "cells": [
  {
   "cell_type": "code",
   "execution_count": 1,
   "metadata": {},
   "outputs": [],
   "source": [
    "from sklearn.cluster import DBSCAN\n",
    "from sklearn import metrics\n",
    "from sklearn.datasets import make_blobs\n",
    "from sklearn.preprocessing import StandardScaler"
   ]
  },
  {
   "cell_type": "code",
   "execution_count": 2,
   "metadata": {},
   "outputs": [],
   "source": [
    "import pandas as pd"
   ]
  },
  {
   "cell_type": "code",
   "execution_count": 3,
   "metadata": {},
   "outputs": [],
   "source": [
    "import numpy as np"
   ]
  },
  {
   "cell_type": "markdown",
   "metadata": {},
   "source": [
    "# 3 sec"
   ]
  },
  {
   "cell_type": "code",
   "execution_count": 4,
   "metadata": {},
   "outputs": [
    {
     "data": {
      "text/html": [
       "<div>\n",
       "<style scoped>\n",
       "    .dataframe tbody tr th:only-of-type {\n",
       "        vertical-align: middle;\n",
       "    }\n",
       "\n",
       "    .dataframe tbody tr th {\n",
       "        vertical-align: top;\n",
       "    }\n",
       "\n",
       "    .dataframe thead th {\n",
       "        text-align: right;\n",
       "    }\n",
       "</style>\n",
       "<table border=\"1\" class=\"dataframe\">\n",
       "  <thead>\n",
       "    <tr style=\"text-align: right;\">\n",
       "      <th></th>\n",
       "      <th>filename</th>\n",
       "      <th>length</th>\n",
       "      <th>chroma_stft_mean</th>\n",
       "      <th>chroma_stft_var</th>\n",
       "      <th>rms_mean</th>\n",
       "      <th>rms_var</th>\n",
       "      <th>spectral_centroid_mean</th>\n",
       "      <th>spectral_centroid_var</th>\n",
       "      <th>spectral_bandwidth_mean</th>\n",
       "      <th>spectral_bandwidth_var</th>\n",
       "      <th>...</th>\n",
       "      <th>mfcc16_var</th>\n",
       "      <th>mfcc17_mean</th>\n",
       "      <th>mfcc17_var</th>\n",
       "      <th>mfcc18_mean</th>\n",
       "      <th>mfcc18_var</th>\n",
       "      <th>mfcc19_mean</th>\n",
       "      <th>mfcc19_var</th>\n",
       "      <th>mfcc20_mean</th>\n",
       "      <th>mfcc20_var</th>\n",
       "      <th>label</th>\n",
       "    </tr>\n",
       "  </thead>\n",
       "  <tbody>\n",
       "    <tr>\n",
       "      <th>0</th>\n",
       "      <td>blues.00000.0.wav</td>\n",
       "      <td>66149</td>\n",
       "      <td>0.335406</td>\n",
       "      <td>0.091048</td>\n",
       "      <td>0.130405</td>\n",
       "      <td>0.003521</td>\n",
       "      <td>1773.065032</td>\n",
       "      <td>167541.630869</td>\n",
       "      <td>1972.744388</td>\n",
       "      <td>117335.771563</td>\n",
       "      <td>...</td>\n",
       "      <td>39.687145</td>\n",
       "      <td>-3.241280</td>\n",
       "      <td>36.488243</td>\n",
       "      <td>0.722209</td>\n",
       "      <td>38.099152</td>\n",
       "      <td>-5.050335</td>\n",
       "      <td>33.618073</td>\n",
       "      <td>-0.243027</td>\n",
       "      <td>43.771767</td>\n",
       "      <td>blues</td>\n",
       "    </tr>\n",
       "    <tr>\n",
       "      <th>1</th>\n",
       "      <td>blues.00000.1.wav</td>\n",
       "      <td>66149</td>\n",
       "      <td>0.343065</td>\n",
       "      <td>0.086147</td>\n",
       "      <td>0.112699</td>\n",
       "      <td>0.001450</td>\n",
       "      <td>1816.693777</td>\n",
       "      <td>90525.690866</td>\n",
       "      <td>2010.051501</td>\n",
       "      <td>65671.875673</td>\n",
       "      <td>...</td>\n",
       "      <td>64.748276</td>\n",
       "      <td>-6.055294</td>\n",
       "      <td>40.677654</td>\n",
       "      <td>0.159015</td>\n",
       "      <td>51.264091</td>\n",
       "      <td>-2.837699</td>\n",
       "      <td>97.030830</td>\n",
       "      <td>5.784063</td>\n",
       "      <td>59.943081</td>\n",
       "      <td>blues</td>\n",
       "    </tr>\n",
       "    <tr>\n",
       "      <th>2</th>\n",
       "      <td>blues.00000.2.wav</td>\n",
       "      <td>66149</td>\n",
       "      <td>0.346815</td>\n",
       "      <td>0.092243</td>\n",
       "      <td>0.132003</td>\n",
       "      <td>0.004620</td>\n",
       "      <td>1788.539719</td>\n",
       "      <td>111407.437613</td>\n",
       "      <td>2084.565132</td>\n",
       "      <td>75124.921716</td>\n",
       "      <td>...</td>\n",
       "      <td>67.336563</td>\n",
       "      <td>-1.768610</td>\n",
       "      <td>28.348579</td>\n",
       "      <td>2.378768</td>\n",
       "      <td>45.717648</td>\n",
       "      <td>-1.938424</td>\n",
       "      <td>53.050835</td>\n",
       "      <td>2.517375</td>\n",
       "      <td>33.105122</td>\n",
       "      <td>blues</td>\n",
       "    </tr>\n",
       "    <tr>\n",
       "      <th>3</th>\n",
       "      <td>blues.00000.3.wav</td>\n",
       "      <td>66149</td>\n",
       "      <td>0.363639</td>\n",
       "      <td>0.086856</td>\n",
       "      <td>0.132565</td>\n",
       "      <td>0.002448</td>\n",
       "      <td>1655.289045</td>\n",
       "      <td>111952.284517</td>\n",
       "      <td>1960.039988</td>\n",
       "      <td>82913.639269</td>\n",
       "      <td>...</td>\n",
       "      <td>47.739452</td>\n",
       "      <td>-3.841155</td>\n",
       "      <td>28.337118</td>\n",
       "      <td>1.218588</td>\n",
       "      <td>34.770935</td>\n",
       "      <td>-3.580352</td>\n",
       "      <td>50.836224</td>\n",
       "      <td>3.630866</td>\n",
       "      <td>32.023678</td>\n",
       "      <td>blues</td>\n",
       "    </tr>\n",
       "    <tr>\n",
       "      <th>4</th>\n",
       "      <td>blues.00000.4.wav</td>\n",
       "      <td>66149</td>\n",
       "      <td>0.335579</td>\n",
       "      <td>0.088129</td>\n",
       "      <td>0.143289</td>\n",
       "      <td>0.001701</td>\n",
       "      <td>1630.656199</td>\n",
       "      <td>79667.267654</td>\n",
       "      <td>1948.503884</td>\n",
       "      <td>60204.020268</td>\n",
       "      <td>...</td>\n",
       "      <td>30.336359</td>\n",
       "      <td>0.664582</td>\n",
       "      <td>45.880913</td>\n",
       "      <td>1.689446</td>\n",
       "      <td>51.363583</td>\n",
       "      <td>-3.392489</td>\n",
       "      <td>26.738789</td>\n",
       "      <td>0.536961</td>\n",
       "      <td>29.146694</td>\n",
       "      <td>blues</td>\n",
       "    </tr>\n",
       "    <tr>\n",
       "      <th>...</th>\n",
       "      <td>...</td>\n",
       "      <td>...</td>\n",
       "      <td>...</td>\n",
       "      <td>...</td>\n",
       "      <td>...</td>\n",
       "      <td>...</td>\n",
       "      <td>...</td>\n",
       "      <td>...</td>\n",
       "      <td>...</td>\n",
       "      <td>...</td>\n",
       "      <td>...</td>\n",
       "      <td>...</td>\n",
       "      <td>...</td>\n",
       "      <td>...</td>\n",
       "      <td>...</td>\n",
       "      <td>...</td>\n",
       "      <td>...</td>\n",
       "      <td>...</td>\n",
       "      <td>...</td>\n",
       "      <td>...</td>\n",
       "      <td>...</td>\n",
       "    </tr>\n",
       "    <tr>\n",
       "      <th>9985</th>\n",
       "      <td>rock.00099.5.wav</td>\n",
       "      <td>66149</td>\n",
       "      <td>0.349126</td>\n",
       "      <td>0.080515</td>\n",
       "      <td>0.050019</td>\n",
       "      <td>0.000097</td>\n",
       "      <td>1499.083005</td>\n",
       "      <td>164266.886443</td>\n",
       "      <td>1718.707215</td>\n",
       "      <td>85931.574523</td>\n",
       "      <td>...</td>\n",
       "      <td>42.485981</td>\n",
       "      <td>-9.094270</td>\n",
       "      <td>38.326839</td>\n",
       "      <td>-4.246976</td>\n",
       "      <td>31.049839</td>\n",
       "      <td>-5.625813</td>\n",
       "      <td>48.804092</td>\n",
       "      <td>1.818823</td>\n",
       "      <td>38.966969</td>\n",
       "      <td>rock</td>\n",
       "    </tr>\n",
       "    <tr>\n",
       "      <th>9986</th>\n",
       "      <td>rock.00099.6.wav</td>\n",
       "      <td>66149</td>\n",
       "      <td>0.372564</td>\n",
       "      <td>0.082626</td>\n",
       "      <td>0.057897</td>\n",
       "      <td>0.000088</td>\n",
       "      <td>1847.965128</td>\n",
       "      <td>281054.935973</td>\n",
       "      <td>1906.468492</td>\n",
       "      <td>99727.037054</td>\n",
       "      <td>...</td>\n",
       "      <td>32.415203</td>\n",
       "      <td>-12.375726</td>\n",
       "      <td>66.418587</td>\n",
       "      <td>-3.081278</td>\n",
       "      <td>54.414265</td>\n",
       "      <td>-11.960546</td>\n",
       "      <td>63.452255</td>\n",
       "      <td>0.428857</td>\n",
       "      <td>18.697033</td>\n",
       "      <td>rock</td>\n",
       "    </tr>\n",
       "    <tr>\n",
       "      <th>9987</th>\n",
       "      <td>rock.00099.7.wav</td>\n",
       "      <td>66149</td>\n",
       "      <td>0.347481</td>\n",
       "      <td>0.089019</td>\n",
       "      <td>0.052403</td>\n",
       "      <td>0.000701</td>\n",
       "      <td>1346.157659</td>\n",
       "      <td>662956.246325</td>\n",
       "      <td>1561.859087</td>\n",
       "      <td>138762.841945</td>\n",
       "      <td>...</td>\n",
       "      <td>78.228149</td>\n",
       "      <td>-2.524483</td>\n",
       "      <td>21.778994</td>\n",
       "      <td>4.809936</td>\n",
       "      <td>25.980829</td>\n",
       "      <td>1.775686</td>\n",
       "      <td>48.582378</td>\n",
       "      <td>-0.299545</td>\n",
       "      <td>41.586990</td>\n",
       "      <td>rock</td>\n",
       "    </tr>\n",
       "    <tr>\n",
       "      <th>9988</th>\n",
       "      <td>rock.00099.8.wav</td>\n",
       "      <td>66149</td>\n",
       "      <td>0.387527</td>\n",
       "      <td>0.084815</td>\n",
       "      <td>0.066430</td>\n",
       "      <td>0.000320</td>\n",
       "      <td>2084.515327</td>\n",
       "      <td>203891.039161</td>\n",
       "      <td>2018.366254</td>\n",
       "      <td>22860.992562</td>\n",
       "      <td>...</td>\n",
       "      <td>28.323744</td>\n",
       "      <td>-5.363541</td>\n",
       "      <td>17.209942</td>\n",
       "      <td>6.462601</td>\n",
       "      <td>21.442928</td>\n",
       "      <td>2.354765</td>\n",
       "      <td>24.843613</td>\n",
       "      <td>0.675824</td>\n",
       "      <td>12.787750</td>\n",
       "      <td>rock</td>\n",
       "    </tr>\n",
       "    <tr>\n",
       "      <th>9989</th>\n",
       "      <td>rock.00099.9.wav</td>\n",
       "      <td>66149</td>\n",
       "      <td>0.369293</td>\n",
       "      <td>0.086759</td>\n",
       "      <td>0.050524</td>\n",
       "      <td>0.000067</td>\n",
       "      <td>1634.330126</td>\n",
       "      <td>411429.169769</td>\n",
       "      <td>1867.422378</td>\n",
       "      <td>119722.211518</td>\n",
       "      <td>...</td>\n",
       "      <td>38.801735</td>\n",
       "      <td>-11.598399</td>\n",
       "      <td>58.983097</td>\n",
       "      <td>-0.178517</td>\n",
       "      <td>55.761299</td>\n",
       "      <td>-6.903252</td>\n",
       "      <td>39.485901</td>\n",
       "      <td>-3.412534</td>\n",
       "      <td>31.727489</td>\n",
       "      <td>rock</td>\n",
       "    </tr>\n",
       "  </tbody>\n",
       "</table>\n",
       "<p>9990 rows × 60 columns</p>\n",
       "</div>"
      ],
      "text/plain": [
       "               filename  length  chroma_stft_mean  chroma_stft_var  rms_mean  \\\n",
       "0     blues.00000.0.wav   66149          0.335406         0.091048  0.130405   \n",
       "1     blues.00000.1.wav   66149          0.343065         0.086147  0.112699   \n",
       "2     blues.00000.2.wav   66149          0.346815         0.092243  0.132003   \n",
       "3     blues.00000.3.wav   66149          0.363639         0.086856  0.132565   \n",
       "4     blues.00000.4.wav   66149          0.335579         0.088129  0.143289   \n",
       "...                 ...     ...               ...              ...       ...   \n",
       "9985   rock.00099.5.wav   66149          0.349126         0.080515  0.050019   \n",
       "9986   rock.00099.6.wav   66149          0.372564         0.082626  0.057897   \n",
       "9987   rock.00099.7.wav   66149          0.347481         0.089019  0.052403   \n",
       "9988   rock.00099.8.wav   66149          0.387527         0.084815  0.066430   \n",
       "9989   rock.00099.9.wav   66149          0.369293         0.086759  0.050524   \n",
       "\n",
       "       rms_var  spectral_centroid_mean  spectral_centroid_var  \\\n",
       "0     0.003521             1773.065032          167541.630869   \n",
       "1     0.001450             1816.693777           90525.690866   \n",
       "2     0.004620             1788.539719          111407.437613   \n",
       "3     0.002448             1655.289045          111952.284517   \n",
       "4     0.001701             1630.656199           79667.267654   \n",
       "...        ...                     ...                    ...   \n",
       "9985  0.000097             1499.083005          164266.886443   \n",
       "9986  0.000088             1847.965128          281054.935973   \n",
       "9987  0.000701             1346.157659          662956.246325   \n",
       "9988  0.000320             2084.515327          203891.039161   \n",
       "9989  0.000067             1634.330126          411429.169769   \n",
       "\n",
       "      spectral_bandwidth_mean  spectral_bandwidth_var  ...  mfcc16_var  \\\n",
       "0                 1972.744388           117335.771563  ...   39.687145   \n",
       "1                 2010.051501            65671.875673  ...   64.748276   \n",
       "2                 2084.565132            75124.921716  ...   67.336563   \n",
       "3                 1960.039988            82913.639269  ...   47.739452   \n",
       "4                 1948.503884            60204.020268  ...   30.336359   \n",
       "...                       ...                     ...  ...         ...   \n",
       "9985              1718.707215            85931.574523  ...   42.485981   \n",
       "9986              1906.468492            99727.037054  ...   32.415203   \n",
       "9987              1561.859087           138762.841945  ...   78.228149   \n",
       "9988              2018.366254            22860.992562  ...   28.323744   \n",
       "9989              1867.422378           119722.211518  ...   38.801735   \n",
       "\n",
       "      mfcc17_mean  mfcc17_var  mfcc18_mean  mfcc18_var  mfcc19_mean  \\\n",
       "0       -3.241280   36.488243     0.722209   38.099152    -5.050335   \n",
       "1       -6.055294   40.677654     0.159015   51.264091    -2.837699   \n",
       "2       -1.768610   28.348579     2.378768   45.717648    -1.938424   \n",
       "3       -3.841155   28.337118     1.218588   34.770935    -3.580352   \n",
       "4        0.664582   45.880913     1.689446   51.363583    -3.392489   \n",
       "...           ...         ...          ...         ...          ...   \n",
       "9985    -9.094270   38.326839    -4.246976   31.049839    -5.625813   \n",
       "9986   -12.375726   66.418587    -3.081278   54.414265   -11.960546   \n",
       "9987    -2.524483   21.778994     4.809936   25.980829     1.775686   \n",
       "9988    -5.363541   17.209942     6.462601   21.442928     2.354765   \n",
       "9989   -11.598399   58.983097    -0.178517   55.761299    -6.903252   \n",
       "\n",
       "      mfcc19_var  mfcc20_mean  mfcc20_var  label  \n",
       "0      33.618073    -0.243027   43.771767  blues  \n",
       "1      97.030830     5.784063   59.943081  blues  \n",
       "2      53.050835     2.517375   33.105122  blues  \n",
       "3      50.836224     3.630866   32.023678  blues  \n",
       "4      26.738789     0.536961   29.146694  blues  \n",
       "...          ...          ...         ...    ...  \n",
       "9985   48.804092     1.818823   38.966969   rock  \n",
       "9986   63.452255     0.428857   18.697033   rock  \n",
       "9987   48.582378    -0.299545   41.586990   rock  \n",
       "9988   24.843613     0.675824   12.787750   rock  \n",
       "9989   39.485901    -3.412534   31.727489   rock  \n",
       "\n",
       "[9990 rows x 60 columns]"
      ]
     },
     "execution_count": 4,
     "metadata": {},
     "output_type": "execute_result"
    }
   ],
   "source": [
    "data_3=pd.read_csv(\"E:/Auckland university/cs760/group/present2/features_3_sec.csv\")\n",
    "data_3"
   ]
  },
  {
   "cell_type": "code",
   "execution_count": 5,
   "metadata": {},
   "outputs": [
    {
     "name": "stdout",
     "output_type": "stream",
     "text": [
      "9\n",
      "20\n"
     ]
    }
   ],
   "source": [
    "X1=data_3.iloc[:,2:19]\n",
    "X2=data_3.iloc[:,19:-1]\n",
    "X1mean=X1.iloc[:,[i%2==0 for i in range(len(X1.columns))]]\n",
    "X2mean=X2.iloc[:,[i%2==0 for i in range(len(X2.columns))]]\n",
    "print(X1mean.shape[1])\n",
    "print(X2mean.shape[1])"
   ]
  },
  {
   "cell_type": "code",
   "execution_count": null,
   "metadata": {},
   "outputs": [],
   "source": [
    "\n"
   ]
  },
  {
   "cell_type": "code",
   "execution_count": 6,
   "metadata": {},
   "outputs": [],
   "source": [
    "from sklearn.decomposition import PCA\n"
   ]
  },
  {
   "cell_type": "code",
   "execution_count": 35,
   "metadata": {},
   "outputs": [],
   "source": [
    "#standerlized\n",
    "# scaler = StandardScaler()\n",
    "# scaler.fit(train)\n",
    "# X_scale = scaler.transform(train)\n",
    "# df_scale = pd.DataFrame(X_scale, columns=train.columns)\n",
    "# df_scale.head()\n",
    "# #feature dimension reduction\n",
    "# pca = PCA(n_components=29)\n",
    "# pca.fit(df_scale)\n",
    "# variance = pca.explained_variance_ratio_ \n",
    "# var=np.cumsum(np.round(variance,3)*100)\n",
    "# plt.figure(figsize=(12,6))\n",
    "# plt.ylabel('% Variance Explained')\n",
    "# plt.xlabel('# of Features')\n",
    "# plt.title('PCA Analysis')\n",
    "# plt.ylim(0,100.5)\n",
    "# plt.plot(var)\n",
    "# #data dimension reduction\n",
    "# pca = PCA(n_components=10)\n",
    "# pca.fit(df_scale)\n",
    "# pca_scale = pca.transform(df_scale)\n",
    "# pca_df = pd.DataFrame(pca_scale, columns=['pc1', 'pc2', 'pc3','pc4','pc1', 'pc2', 'pc3','pc4','pc1', 'pc2',])\n",
    "# print(pca.explained_variance_ratio_)"
   ]
  },
  {
   "cell_type": "code",
   "execution_count": null,
   "metadata": {},
   "outputs": [],
   "source": []
  },
  {
   "cell_type": "code",
   "execution_count": 8,
   "metadata": {},
   "outputs": [],
   "source": [
    "from sklearn.neighbors import NearestNeighbors  "
   ]
  },
  {
   "cell_type": "code",
   "execution_count": 9,
   "metadata": {},
   "outputs": [],
   "source": [
    "import matplotlib.pyplot as plt"
   ]
  },
  {
   "cell_type": "markdown",
   "metadata": {},
   "source": [
    "# DBSCAN"
   ]
  },
  {
   "cell_type": "code",
   "execution_count": 10,
   "metadata": {},
   "outputs": [
    {
     "data": {
      "image/png": "[encoded data removed]",
      "text/plain": [
       "<Figure size 720x432 with 1 Axes>"
      ]
     },
     "metadata": {},
     "output_type": "display_data"
    }
   ],
   "source": [
    "# x1mean确定eps\n",
    "plt.figure(figsize=(10,6))\n",
    "nn = NearestNeighbors(n_neighbors=5).fit(X1mean)\n",
    "distances, idx = nn.kneighbors(X1mean)\n",
    "distances = np.sort(distances, axis=0)\n",
    "distances = distances[:,1]\n",
    "plt.plot(distances)\n",
    "plt.show()"
   ]
  },
  {
   "cell_type": "code",
   "execution_count": 56,
   "metadata": {},
   "outputs": [
    {
     "name": "stdout",
     "output_type": "stream",
     "text": [
      "number of labels 8\n",
      "number of noises 1068\n"
     ]
    }
   ],
   "source": [
    "db = DBSCAN(eps=99,min_samples=10).fit(X1mean)\n",
    "labels = db.labels_\n",
    "print(\"number of labels\",len(set(labels)) - (1 if -1 in labels else 0))\n",
    "print(\"number of noises\",list(labels).count(-1))"
   ]
  },
  {
   "cell_type": "code",
   "execution_count": null,
   "metadata": {},
   "outputs": [],
   "source": []
  },
  {
   "cell_type": "code",
   "execution_count": 12,
   "metadata": {},
   "outputs": [
    {
     "data": {
      "image/png": "[encoded data removed]",
      "text/plain": [
       "<Figure size 720x432 with 1 Axes>"
      ]
     },
     "metadata": {},
     "output_type": "display_data"
    }
   ],
   "source": [
    "# x2mean确定eps\n",
    "plt.figure(figsize=(10,6))\n",
    "nn = NearestNeighbors(n_neighbors=5).fit(X2mean)\n",
    "distances, idx = nn.kneighbors(X2mean)\n",
    "distances = np.sort(distances, axis=0)\n",
    "distances = distances[:,1]\n",
    "plt.plot(distances)\n",
    "plt.show()"
   ]
  },
  {
   "cell_type": "code",
   "execution_count": 37,
   "metadata": {},
   "outputs": [
    {
     "name": "stdout",
     "output_type": "stream",
     "text": [
      "number of labels 11\n",
      "number of noise 2054\n"
     ]
    }
   ],
   "source": [
    "db = DBSCAN(eps=30,min_samples=10).fit(X2mean)\n",
    "labels = db.labels_\n",
    "print(\"number of labels\",len(set(labels)) - (1 if -1 in labels else 0))\n",
    "print(\"number of noise\",list(labels).count(-1))"
   ]
  },
  {
   "cell_type": "markdown",
   "metadata": {},
   "source": [
    "# K-MEAN"
   ]
  },
  {
   "cell_type": "code",
   "execution_count": 14,
   "metadata": {},
   "outputs": [],
   "source": [
    "from sklearn.cluster import KMeans\n",
    "from sklearn.model_selection import train_test_split, GridSearchCV"
   ]
  },
  {
   "cell_type": "code",
   "execution_count": 15,
   "metadata": {},
   "outputs": [],
   "source": [
    "kmeans = KMeans(n_clusters=20, random_state=0).fit(X1mean)"
   ]
  },
  {
   "cell_type": "code",
   "execution_count": 16,
   "metadata": {},
   "outputs": [
    {
     "data": {
      "text/plain": [
       "0.30648797652519894"
      ]
     },
     "execution_count": 16,
     "metadata": {},
     "output_type": "execute_result"
    }
   ],
   "source": [
    "from sklearn.metrics import silhouette_score\n",
    "silhouette_score(X1mean,kmeans.labels_)"
   ]
  },
  {
   "cell_type": "code",
   "execution_count": 17,
   "metadata": {},
   "outputs": [],
   "source": [
    "silhouettescore=[]\n",
    "for i in range(20,25):\n",
    "    kmeans = KMeans(n_clusters=i, random_state=0).fit(X1mean)\n",
    "    score=silhouette_score(X1mean,kmeans.labels_)\n",
    "    silhouettescore.append(score)"
   ]
  },
  {
   "cell_type": "code",
   "execution_count": 18,
   "metadata": {},
   "outputs": [
    {
     "data": {
      "image/png": "[encoded data removed]",
      "text/plain": [
       "<Figure size 720x432 with 1 Axes>"
      ]
     },
     "metadata": {},
     "output_type": "display_data"
    }
   ],
   "source": [
    "plt.figure(figsize=(10,6))\n",
    "plt.plot(range(20,25),silhouettescore)\n",
    "plt.xlabel(\"number of clusters\")\n",
    "plt.ylabel(\"silhouettescore\")\n",
    "plt.show()\n"
   ]
  },
  {
   "cell_type": "code",
   "execution_count": 19,
   "metadata": {},
   "outputs": [
    {
     "data": {
      "text/plain": [
       "0.2870399903408457"
      ]
     },
     "execution_count": 19,
     "metadata": {},
     "output_type": "execute_result"
    }
   ],
   "source": [
    "kmeans = KMeans(n_clusters=23, random_state=0).fit(X1mean)\n",
    "silhouette_score(X1mean,kmeans.labels_)"
   ]
  },
  {
   "cell_type": "markdown",
   "metadata": {},
   "source": [
    "# 30 sce"
   ]
  },
  {
   "cell_type": "code",
   "execution_count": 20,
   "metadata": {},
   "outputs": [],
   "source": [
    "data_30=pd.read_csv(\"E:/Auckland university/cs760/group/present2/features_30_sec.csv\")"
   ]
  },
  {
   "cell_type": "code",
   "execution_count": 21,
   "metadata": {
    "scrolled": true
   },
   "outputs": [
    {
     "data": {
      "text/html": [
       "<div>\n",
       "<style scoped>\n",
       "    .dataframe tbody tr th:only-of-type {\n",
       "        vertical-align: middle;\n",
       "    }\n",
       "\n",
       "    .dataframe tbody tr th {\n",
       "        vertical-align: top;\n",
       "    }\n",
       "\n",
       "    .dataframe thead th {\n",
       "        text-align: right;\n",
       "    }\n",
       "</style>\n",
       "<table border=\"1\" class=\"dataframe\">\n",
       "  <thead>\n",
       "    <tr style=\"text-align: right;\">\n",
       "      <th></th>\n",
       "      <th>mfcc1_var</th>\n",
       "      <th>mfcc2_var</th>\n",
       "      <th>mfcc3_var</th>\n",
       "      <th>mfcc4_var</th>\n",
       "      <th>mfcc5_var</th>\n",
       "      <th>mfcc6_var</th>\n",
       "      <th>mfcc7_var</th>\n",
       "      <th>mfcc8_var</th>\n",
       "      <th>mfcc9_var</th>\n",
       "      <th>mfcc10_var</th>\n",
       "      <th>mfcc11_var</th>\n",
       "      <th>mfcc12_var</th>\n",
       "      <th>mfcc13_var</th>\n",
       "      <th>mfcc14_var</th>\n",
       "      <th>mfcc15_var</th>\n",
       "      <th>mfcc16_var</th>\n",
       "      <th>mfcc17_var</th>\n",
       "      <th>mfcc18_var</th>\n",
       "      <th>mfcc19_var</th>\n",
       "      <th>mfcc20_var</th>\n",
       "    </tr>\n",
       "  </thead>\n",
       "  <tbody>\n",
       "    <tr>\n",
       "      <th>0</th>\n",
       "      <td>2564.207520</td>\n",
       "      <td>295.913818</td>\n",
       "      <td>235.574432</td>\n",
       "      <td>151.106873</td>\n",
       "      <td>167.934799</td>\n",
       "      <td>89.180840</td>\n",
       "      <td>67.660492</td>\n",
       "      <td>68.932579</td>\n",
       "      <td>82.204201</td>\n",
       "      <td>63.386311</td>\n",
       "      <td>61.773094</td>\n",
       "      <td>51.244125</td>\n",
       "      <td>41.217415</td>\n",
       "      <td>40.554478</td>\n",
       "      <td>49.775421</td>\n",
       "      <td>52.420910</td>\n",
       "      <td>36.524071</td>\n",
       "      <td>41.597103</td>\n",
       "      <td>55.062923</td>\n",
       "      <td>46.936035</td>\n",
       "    </tr>\n",
       "    <tr>\n",
       "      <th>1</th>\n",
       "      <td>7764.555176</td>\n",
       "      <td>560.259949</td>\n",
       "      <td>572.810913</td>\n",
       "      <td>264.506104</td>\n",
       "      <td>279.932922</td>\n",
       "      <td>156.477097</td>\n",
       "      <td>200.849182</td>\n",
       "      <td>142.555954</td>\n",
       "      <td>166.108521</td>\n",
       "      <td>104.358612</td>\n",
       "      <td>105.173630</td>\n",
       "      <td>96.197212</td>\n",
       "      <td>64.914291</td>\n",
       "      <td>73.152534</td>\n",
       "      <td>52.422142</td>\n",
       "      <td>55.356403</td>\n",
       "      <td>60.314529</td>\n",
       "      <td>48.120598</td>\n",
       "      <td>51.106190</td>\n",
       "      <td>45.786282</td>\n",
       "    </tr>\n",
       "    <tr>\n",
       "      <th>2</th>\n",
       "      <td>3319.044922</td>\n",
       "      <td>508.765045</td>\n",
       "      <td>411.781219</td>\n",
       "      <td>144.090317</td>\n",
       "      <td>155.493759</td>\n",
       "      <td>74.548401</td>\n",
       "      <td>106.981827</td>\n",
       "      <td>106.574875</td>\n",
       "      <td>65.447945</td>\n",
       "      <td>67.908859</td>\n",
       "      <td>57.781425</td>\n",
       "      <td>64.480209</td>\n",
       "      <td>60.385151</td>\n",
       "      <td>57.711136</td>\n",
       "      <td>36.580986</td>\n",
       "      <td>40.598766</td>\n",
       "      <td>47.639427</td>\n",
       "      <td>52.382141</td>\n",
       "      <td>46.639660</td>\n",
       "      <td>30.573025</td>\n",
       "    </tr>\n",
       "    <tr>\n",
       "      <th>3</th>\n",
       "      <td>5507.517090</td>\n",
       "      <td>456.505402</td>\n",
       "      <td>257.161163</td>\n",
       "      <td>158.267303</td>\n",
       "      <td>268.034393</td>\n",
       "      <td>126.794128</td>\n",
       "      <td>155.912079</td>\n",
       "      <td>81.273743</td>\n",
       "      <td>92.114090</td>\n",
       "      <td>71.314079</td>\n",
       "      <td>110.236687</td>\n",
       "      <td>48.251999</td>\n",
       "      <td>56.799400</td>\n",
       "      <td>62.289902</td>\n",
       "      <td>51.651592</td>\n",
       "      <td>44.427753</td>\n",
       "      <td>50.206673</td>\n",
       "      <td>37.319130</td>\n",
       "      <td>37.259739</td>\n",
       "      <td>31.949339</td>\n",
       "    </tr>\n",
       "    <tr>\n",
       "      <th>4</th>\n",
       "      <td>5195.291992</td>\n",
       "      <td>853.784729</td>\n",
       "      <td>333.792938</td>\n",
       "      <td>193.456100</td>\n",
       "      <td>336.276825</td>\n",
       "      <td>134.831573</td>\n",
       "      <td>93.257095</td>\n",
       "      <td>124.672127</td>\n",
       "      <td>130.073349</td>\n",
       "      <td>99.675575</td>\n",
       "      <td>80.254066</td>\n",
       "      <td>86.430626</td>\n",
       "      <td>89.555443</td>\n",
       "      <td>70.943336</td>\n",
       "      <td>75.793404</td>\n",
       "      <td>86.099236</td>\n",
       "      <td>75.269707</td>\n",
       "      <td>53.613918</td>\n",
       "      <td>62.910812</td>\n",
       "      <td>55.195160</td>\n",
       "    </tr>\n",
       "    <tr>\n",
       "      <th>...</th>\n",
       "      <td>...</td>\n",
       "      <td>...</td>\n",
       "      <td>...</td>\n",
       "      <td>...</td>\n",
       "      <td>...</td>\n",
       "      <td>...</td>\n",
       "      <td>...</td>\n",
       "      <td>...</td>\n",
       "      <td>...</td>\n",
       "      <td>...</td>\n",
       "      <td>...</td>\n",
       "      <td>...</td>\n",
       "      <td>...</td>\n",
       "      <td>...</td>\n",
       "      <td>...</td>\n",
       "      <td>...</td>\n",
       "      <td>...</td>\n",
       "      <td>...</td>\n",
       "      <td>...</td>\n",
       "      <td>...</td>\n",
       "    </tr>\n",
       "    <tr>\n",
       "      <th>995</th>\n",
       "      <td>2540.949463</td>\n",
       "      <td>455.579956</td>\n",
       "      <td>189.883865</td>\n",
       "      <td>132.334518</td>\n",
       "      <td>92.553497</td>\n",
       "      <td>58.462181</td>\n",
       "      <td>89.278427</td>\n",
       "      <td>43.789928</td>\n",
       "      <td>77.724525</td>\n",
       "      <td>61.443748</td>\n",
       "      <td>42.666080</td>\n",
       "      <td>43.414345</td>\n",
       "      <td>49.383522</td>\n",
       "      <td>56.457893</td>\n",
       "      <td>36.433578</td>\n",
       "      <td>45.050526</td>\n",
       "      <td>41.754955</td>\n",
       "      <td>36.778877</td>\n",
       "      <td>54.866825</td>\n",
       "      <td>49.950665</td>\n",
       "    </tr>\n",
       "    <tr>\n",
       "      <th>996</th>\n",
       "      <td>3282.358887</td>\n",
       "      <td>345.518890</td>\n",
       "      <td>191.464813</td>\n",
       "      <td>66.674255</td>\n",
       "      <td>81.370674</td>\n",
       "      <td>44.545662</td>\n",
       "      <td>63.946007</td>\n",
       "      <td>43.887966</td>\n",
       "      <td>37.119415</td>\n",
       "      <td>53.151684</td>\n",
       "      <td>44.253551</td>\n",
       "      <td>38.195637</td>\n",
       "      <td>34.824745</td>\n",
       "      <td>29.224157</td>\n",
       "      <td>43.484493</td>\n",
       "      <td>33.851742</td>\n",
       "      <td>39.395096</td>\n",
       "      <td>32.010040</td>\n",
       "      <td>39.196327</td>\n",
       "      <td>31.773624</td>\n",
       "    </tr>\n",
       "    <tr>\n",
       "      <th>997</th>\n",
       "      <td>1681.638794</td>\n",
       "      <td>475.088074</td>\n",
       "      <td>290.302795</td>\n",
       "      <td>113.682693</td>\n",
       "      <td>77.294281</td>\n",
       "      <td>81.096153</td>\n",
       "      <td>59.990017</td>\n",
       "      <td>41.712540</td>\n",
       "      <td>44.554043</td>\n",
       "      <td>82.069191</td>\n",
       "      <td>43.337452</td>\n",
       "      <td>42.966385</td>\n",
       "      <td>44.368690</td>\n",
       "      <td>37.248077</td>\n",
       "      <td>39.505585</td>\n",
       "      <td>33.597008</td>\n",
       "      <td>36.367264</td>\n",
       "      <td>36.001110</td>\n",
       "      <td>42.502201</td>\n",
       "      <td>29.865515</td>\n",
       "    </tr>\n",
       "    <tr>\n",
       "      <th>998</th>\n",
       "      <td>10766.367188</td>\n",
       "      <td>492.819122</td>\n",
       "      <td>605.487488</td>\n",
       "      <td>189.945770</td>\n",
       "      <td>156.834641</td>\n",
       "      <td>211.036163</td>\n",
       "      <td>107.069740</td>\n",
       "      <td>103.171165</td>\n",
       "      <td>69.988968</td>\n",
       "      <td>92.819435</td>\n",
       "      <td>63.858929</td>\n",
       "      <td>75.528023</td>\n",
       "      <td>56.776089</td>\n",
       "      <td>42.620800</td>\n",
       "      <td>46.763134</td>\n",
       "      <td>46.324894</td>\n",
       "      <td>43.583942</td>\n",
       "      <td>34.331261</td>\n",
       "      <td>47.227180</td>\n",
       "      <td>41.299088</td>\n",
       "    </tr>\n",
       "    <tr>\n",
       "      <th>999</th>\n",
       "      <td>7712.194336</td>\n",
       "      <td>798.665283</td>\n",
       "      <td>518.708618</td>\n",
       "      <td>228.190399</td>\n",
       "      <td>182.343460</td>\n",
       "      <td>126.902298</td>\n",
       "      <td>119.129547</td>\n",
       "      <td>93.618126</td>\n",
       "      <td>79.731667</td>\n",
       "      <td>76.233124</td>\n",
       "      <td>79.307365</td>\n",
       "      <td>45.758392</td>\n",
       "      <td>42.938053</td>\n",
       "      <td>67.357964</td>\n",
       "      <td>58.056416</td>\n",
       "      <td>59.167755</td>\n",
       "      <td>73.760391</td>\n",
       "      <td>76.504326</td>\n",
       "      <td>72.189316</td>\n",
       "      <td>49.662510</td>\n",
       "    </tr>\n",
       "  </tbody>\n",
       "</table>\n",
       "<p>1000 rows × 20 columns</p>\n",
       "</div>"
      ],
      "text/plain": [
       "        mfcc1_var   mfcc2_var   mfcc3_var   mfcc4_var   mfcc5_var   mfcc6_var  \\\n",
       "0     2564.207520  295.913818  235.574432  151.106873  167.934799   89.180840   \n",
       "1     7764.555176  560.259949  572.810913  264.506104  279.932922  156.477097   \n",
       "2     3319.044922  508.765045  411.781219  144.090317  155.493759   74.548401   \n",
       "3     5507.517090  456.505402  257.161163  158.267303  268.034393  126.794128   \n",
       "4     5195.291992  853.784729  333.792938  193.456100  336.276825  134.831573   \n",
       "..            ...         ...         ...         ...         ...         ...   \n",
       "995   2540.949463  455.579956  189.883865  132.334518   92.553497   58.462181   \n",
       "996   3282.358887  345.518890  191.464813   66.674255   81.370674   44.545662   \n",
       "997   1681.638794  475.088074  290.302795  113.682693   77.294281   81.096153   \n",
       "998  10766.367188  492.819122  605.487488  189.945770  156.834641  211.036163   \n",
       "999   7712.194336  798.665283  518.708618  228.190399  182.343460  126.902298   \n",
       "\n",
       "      mfcc7_var   mfcc8_var   mfcc9_var  mfcc10_var  mfcc11_var  mfcc12_var  \\\n",
       "0     67.660492   68.932579   82.204201   63.386311   61.773094   51.244125   \n",
       "1    200.849182  142.555954  166.108521  104.358612  105.173630   96.197212   \n",
       "2    106.981827  106.574875   65.447945   67.908859   57.781425   64.480209   \n",
       "3    155.912079   81.273743   92.114090   71.314079  110.236687   48.251999   \n",
       "4     93.257095  124.672127  130.073349   99.675575   80.254066   86.430626   \n",
       "..          ...         ...         ...         ...         ...         ...   \n",
       "995   89.278427   43.789928   77.724525   61.443748   42.666080   43.414345   \n",
       "996   63.946007   43.887966   37.119415   53.151684   44.253551   38.195637   \n",
       "997   59.990017   41.712540   44.554043   82.069191   43.337452   42.966385   \n",
       "998  107.069740  103.171165   69.988968   92.819435   63.858929   75.528023   \n",
       "999  119.129547   93.618126   79.731667   76.233124   79.307365   45.758392   \n",
       "\n",
       "     mfcc13_var  mfcc14_var  mfcc15_var  mfcc16_var  mfcc17_var  mfcc18_var  \\\n",
       "0     41.217415   40.554478   49.775421   52.420910   36.524071   41.597103   \n",
       "1     64.914291   73.152534   52.422142   55.356403   60.314529   48.120598   \n",
       "2     60.385151   57.711136   36.580986   40.598766   47.639427   52.382141   \n",
       "3     56.799400   62.289902   51.651592   44.427753   50.206673   37.319130   \n",
       "4     89.555443   70.943336   75.793404   86.099236   75.269707   53.613918   \n",
       "..          ...         ...         ...         ...         ...         ...   \n",
       "995   49.383522   56.457893   36.433578   45.050526   41.754955   36.778877   \n",
       "996   34.824745   29.224157   43.484493   33.851742   39.395096   32.010040   \n",
       "997   44.368690   37.248077   39.505585   33.597008   36.367264   36.001110   \n",
       "998   56.776089   42.620800   46.763134   46.324894   43.583942   34.331261   \n",
       "999   42.938053   67.357964   58.056416   59.167755   73.760391   76.504326   \n",
       "\n",
       "     mfcc19_var  mfcc20_var  \n",
       "0     55.062923   46.936035  \n",
       "1     51.106190   45.786282  \n",
       "2     46.639660   30.573025  \n",
       "3     37.259739   31.949339  \n",
       "4     62.910812   55.195160  \n",
       "..          ...         ...  \n",
       "995   54.866825   49.950665  \n",
       "996   39.196327   31.773624  \n",
       "997   42.502201   29.865515  \n",
       "998   47.227180   41.299088  \n",
       "999   72.189316   49.662510  \n",
       "\n",
       "[1000 rows x 20 columns]"
      ]
     },
     "execution_count": 21,
     "metadata": {},
     "output_type": "execute_result"
    }
   ],
   "source": [
    "x1=data_30.iloc[:,2:19]\n",
    "x2=data_30.iloc[:,19:-1]\n",
    "x1mean=x1.iloc[:,[i%2==0 for i in range(len(x1.columns))]]\n",
    "x2mean=x2.iloc[:,[i%2==1for i in range(len(x2.columns))]]\n",
    "x2mean"
   ]
  },
  {
   "cell_type": "code",
   "execution_count": 22,
   "metadata": {},
   "outputs": [
    {
     "name": "stdout",
     "output_type": "stream",
     "text": [
      "9\n",
      "20\n"
     ]
    }
   ],
   "source": [
    "print(x1mean.shape[1])\n",
    "print(x2mean.shape[1])"
   ]
  },
  {
   "cell_type": "markdown",
   "metadata": {},
   "source": [
    "# DBSCAN"
   ]
  },
  {
   "cell_type": "code",
   "execution_count": 23,
   "metadata": {},
   "outputs": [
    {
     "data": {
      "image/png": "[encoded data removed]",
      "text/plain": [
       "<Figure size 720x360 with 1 Axes>"
      ]
     },
     "metadata": {},
     "output_type": "display_data"
    }
   ],
   "source": [
    "# x1mean确定eps\n",
    "plt.figure(figsize=(10,5))\n",
    "nn = NearestNeighbors(n_neighbors=5).fit(x1mean)\n",
    "distances, idx = nn.kneighbors(x1mean)\n",
    "distances = np.sort(distances, axis=0)\n",
    "distances = distances[:,1]\n",
    "plt.plot(distances)\n",
    "plt.show()"
   ]
  },
  {
   "cell_type": "code",
   "execution_count": 33,
   "metadata": {},
   "outputs": [
    {
     "name": "stdout",
     "output_type": "stream",
     "text": [
      "number of labels 11\n",
      "number of noise 376\n"
     ]
    }
   ],
   "source": [
    "db = DBSCAN(eps=130, min_samples=10).fit(x1mean)\n",
    "labels = db.labels_\n",
    "print(\"number of labels\",len(set(labels)) - (1 if -1 in labels else 0))\n",
    "print(\"number of noise\",list(labels).count(-1))"
   ]
  },
  {
   "cell_type": "code",
   "execution_count": 25,
   "metadata": {},
   "outputs": [
    {
     "data": {
      "image/png": "[encoded data removed]",
      "text/plain": [
       "<Figure size 720x360 with 1 Axes>"
      ]
     },
     "metadata": {},
     "output_type": "display_data"
    }
   ],
   "source": [
    "# x2mean确定eps\n",
    "plt.figure(figsize=(10,5))\n",
    "nn = NearestNeighbors(n_neighbors=5).fit(x2mean)\n",
    "distances, idx = nn.kneighbors(x2mean)\n",
    "distances = np.sort(distances, axis=0)\n",
    "distances = distances[:,1]\n",
    "plt.plot(distances)\n",
    "plt.show()"
   ]
  },
  {
   "cell_type": "code",
   "execution_count": 26,
   "metadata": {},
   "outputs": [
    {
     "name": "stdout",
     "output_type": "stream",
     "text": [
      "2\n",
      "118\n"
     ]
    }
   ],
   "source": [
    "db = DBSCAN(eps=470, min_samples=9).fit(x2mean)\n",
    "labels = db.labels_\n",
    "print(len(set(labels)) - (1 if -1 in labels else 0))\n",
    "print(list(labels).count(-1))"
   ]
  },
  {
   "cell_type": "markdown",
   "metadata": {},
   "source": [
    "# K-MEAN"
   ]
  },
  {
   "cell_type": "code",
   "execution_count": 27,
   "metadata": {},
   "outputs": [],
   "source": [
    "silhouettescore=[]\n",
    "for i in range(20,50):\n",
    "    kmeans = KMeans(n_clusters=i, random_state=0).fit(x1mean)\n",
    "    score=silhouette_score(x1mean,kmeans.labels_)\n",
    "    silhouettescore.append(score)"
   ]
  },
  {
   "cell_type": "code",
   "execution_count": 28,
   "metadata": {},
   "outputs": [
    {
     "data": {
      "image/png": "[encoded data removed]",
      "text/plain": [
       "<Figure size 720x432 with 1 Axes>"
      ]
     },
     "metadata": {},
     "output_type": "display_data"
    }
   ],
   "source": [
    "plt.figure(figsize=(10,6))\n",
    "plt.plot(range(20,50),silhouettescore)\n",
    "plt.show()"
   ]
  },
  {
   "cell_type": "code",
   "execution_count": 29,
   "metadata": {},
   "outputs": [
    {
     "data": {
      "text/plain": [
       "0.30128416226334026"
      ]
     },
     "execution_count": 29,
     "metadata": {},
     "output_type": "execute_result"
    }
   ],
   "source": [
    "kmeans = KMeans(n_clusters=25, random_state=0).fit(x1mean)\n",
    "silhouette_score(x1mean,kmeans.labels_)"
   ]
  },
  {
   "cell_type": "code",
   "execution_count": 30,
   "metadata": {},
   "outputs": [
    {
     "data": {
      "image/png": "[encoded data removed]",
      "text/plain": [
       "<Figure size 720x432 with 1 Axes>"
      ]
     },
     "metadata": {},
     "output_type": "display_data"
    }
   ],
   "source": [
    "silhouettescore=[]\n",
    "for i in range(20,50):\n",
    "    kmeans = KMeans(n_clusters=i, random_state=0).fit(x2mean)\n",
    "    score=silhouette_score(x2mean,kmeans.labels_)\n",
    "    silhouettescore.append(score)\n",
    "plt.figure(figsize=(10,6))\n",
    "plt.plot(range(20,50),silhouettescore)\n",
    "plt.xlabel(\"number of clusters\")\n",
    "plt.ylabel(\"silhouettescore\")\n",
    "plt.show()"
   ]
  },
  {
   "cell_type": "code",
   "execution_count": 31,
   "metadata": {},
   "outputs": [
    {
     "data": {
      "text/plain": [
       "0.29689646827039096"
      ]
     },
     "execution_count": 31,
     "metadata": {},
     "output_type": "execute_result"
    }
   ],
   "source": [
    "kmeans = KMeans(n_clusters=40, random_state=0).fit(x1mean)\n",
    "silhouette_score(x1mean,kmeans.labels_)"
   ]
  },
  {
   "cell_type": "code",
   "execution_count": null,
   "metadata": {},
   "outputs": [],
   "source": []
  }
 ],
 "metadata": {
  "kernelspec": {
   "display_name": "Python 3",
   "language": "python",
   "name": "python3"
  },
  "language_info": {
   "codemirror_mode": {
    "name": "ipython",
    "version": 3
   },
   "file_extension": ".py",
   "mimetype": "text/x-python",
   "name": "python",
   "nbconvert_exporter": "python",
   "pygments_lexer": "ipython3",
   "version": "3.6.5"
  }
 },
 "nbformat": 4,
 "nbformat_minor": 2
}
