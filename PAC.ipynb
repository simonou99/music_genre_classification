{
 "cells": [
  {
   "cell_type": "code",
   "execution_count": 1,
   "id": "2ec53d34-e881-4a71-a878-b8e3e4364145",
   "metadata": {},
   "outputs": [],
   "source": [
    "from sklearn.preprocessing import StandardScaler\n",
    "from sklearn.decomposition import PCA\n",
    "from sklearn.model_selection import train_test_split\n",
    "import pandas as pd\n",
    "import numpy as np\n",
    "import matplotlib.pyplot as plt"
   ]
  },
  {
   "cell_type": "code",
   "execution_count": null,
   "id": "ac078ca4-af2f-4bb7-be0f-988c87a69dcd",
   "metadata": {},
   "outputs": [],
   "source": [
    "X_train\n",
    "autoPCA(X_train)\n",
    "autoPCA(X_test)"
   ]
  },
  {
   "cell_type": "code",
   "execution_count": 39,
   "id": "3ebe559d-8787-4d91-b59f-7f6b21de5bef",
   "metadata": {},
   "outputs": [
    {
     "ename": "SyntaxError",
     "evalue": "invalid syntax (Temp/ipykernel_14772/199397616.py, line 4)",
     "output_type": "error",
     "traceback": [
      "\u001b[1;36m  File \u001b[1;32m\"C:\\Users\\KnightK\\AppData\\Local\\Temp/ipykernel_14772/199397616.py\"\u001b[1;36m, line \u001b[1;32m4\u001b[0m\n\u001b[1;33m    autoPCA(X_train)autoPCA(X_test)\u001b[0m\n\u001b[1;37m                    ^\u001b[0m\n\u001b[1;31mSyntaxError\u001b[0m\u001b[1;31m:\u001b[0m invalid syntax\n"
     ]
    }
   ],
   "source": [
    "data = pd.read_csv(\"features_30_sec.csv\")\n",
    "X_train,X_test,Y_train,Y_test = train_test_split(data.iloc[:,20:59:2].values,data.iloc[:,59:60].values,test_size = 0.1, random_state = 123)\n",
    "X_train\n"
   ]
  },
  {
   "cell_type": "code",
   "execution_count": null,
   "id": "e8d93a1b-dc1f-4294-b15d-0dcf34ce42c5",
   "metadata": {},
   "outputs": [],
   "source": [
    "autoPCA(X_test)"
   ]
  },
  {
   "cell_type": "code",
   "execution_count": null,
   "id": "6deb6b19-7713-402e-9f46-75546ba652df",
   "metadata": {},
   "outputs": [],
   "source": [
    "autoPCA(X_train)"
   ]
  },
  {
   "cell_type": "code",
   "execution_count": 10,
   "id": "eb2c3350-32a4-46bf-8891-c670a12edfa0",
   "metadata": {},
   "outputs": [
    {
     "data": {
      "text/plain": [
       "<matplotlib.collections.PathCollection at 0x26354d6f370>"
      ]
     },
     "execution_count": 10,
     "metadata": {},
     "output_type": "execute_result"
    },
    {
     "data": {
      "image/png": "[encoded data removed]",
      "text/plain": [
       "<Figure size 432x288 with 1 Axes>"
      ]
     },
     "metadata": {
      "needs_background": "light"
     },
     "output_type": "display_data"
    }
   ],
   "source": [
    "plt.scatter(autoPCA(\"features_30_sec.csv\",2)[0],autoPCA(\"features_30_sec.csv\",2)[1])"
   ]
  },
  {
   "cell_type": "code",
   "execution_count": null,
   "id": "d641264b-2bdc-44b0-8d33-d29696de8dbe",
   "metadata": {},
   "outputs": [],
   "source": []
  }
 ],
 "metadata": {
  "kernelspec": {
   "display_name": "Python 3 (ipykernel)",
   "language": "python",
   "name": "python3"
  },
  "language_info": {
   "codemirror_mode": {
    "name": "ipython",
    "version": 3
   },
   "file_extension": ".py",
   "mimetype": "text/x-python",
   "name": "python",
   "nbconvert_exporter": "python",
   "pygments_lexer": "ipython3",
   "version": "3.9.7"
  }
 },
 "nbformat": 4,
 "nbformat_minor": 5
}
